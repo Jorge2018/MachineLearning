{
  "nbformat": 4,
  "nbformat_minor": 0,
  "metadata": {
    "colab": {
      "name": "01_Colab_Setup.ipynb",
      "provenance": []
    },
    "kernelspec": {
      "name": "python3",
      "display_name": "Python 3"
    },
    "language_info": {
      "name": "python"
    }
  },
  "cells": [
    {
      "cell_type": "code",
      "execution_count": null,
      "metadata": {
        "colab": {
          "base_uri": "https://localhost:8080/"
        },
        "id": "wWAQvGtsAAsS",
        "outputId": "3992ab6b-8616-4781-d860-194ab300a0e2"
      },
      "outputs": [
        {
          "output_type": "stream",
          "name": "stdout",
          "text": [
            "Bienvenido al Bootcamp futuros Data Scientist!\n"
          ]
        }
      ],
      "source": [
        "print('Bienvenido al Bootcamp futuros Data Scientist!')"
      ]
    }
  ]
}